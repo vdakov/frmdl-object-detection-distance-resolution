{
 "cells": [
  {
   "cell_type": "markdown",
   "id": "d9ba7105",
   "metadata": {},
   "source": [
    "# Understanding the Impact of Image Quality and Distance of Objects to Object Detection Performance"
   ]
  },
  {
   "cell_type": "markdown",
   "id": "458bd6c9",
   "metadata": {},
   "source": [
    "***A reproduction*** "
   ]
  },
  {
   "cell_type": "markdown",
   "id": "a2c63682",
   "metadata": {},
   "source": [
    "## Downscale Data"
   ]
  },
  {
   "cell_type": "code",
   "execution_count": null,
   "id": "9c58bc95",
   "metadata": {},
   "outputs": [],
   "source": [
    "INPUT_DIR = \"../datasets/ECP/day/img/val\""
   ]
  },
  {
   "cell_type": "code",
   "execution_count": null,
   "id": "e22dc3d1",
   "metadata": {},
   "outputs": [],
   "source": [
    "from data_processing import expand_folders\n",
    "expand_folders(INPUT_DIR)"
   ]
  },
  {
   "cell_type": "markdown",
   "id": "c2e06b67",
   "metadata": {},
   "source": [
    "### Spatial and Amplitudinal Resolution Downsampling\n"
   ]
  },
  {
   "cell_type": "markdown",
   "id": "8302f025",
   "metadata": {},
   "source": [
    "Spatial - 1.42x Downsampling"
   ]
  },
  {
   "cell_type": "code",
   "execution_count": null,
   "id": "058db19b",
   "metadata": {},
   "outputs": [],
   "source": [
    "from data_processing.expand_dataset import expand_dataset\n",
    "\n",
    "OUTPUT_DIR = \"../datasets/spatially_copressed/ECP/day/img/val\"\n",
    "\n",
    "expand_dataset(\n",
    "    input_dir=INPUT_DIR,\n",
    "    output_dir=OUTPUT_DIR,\n",
    "    scale_factors=[720.0/1024], #value from paper \n",
    "    qp_values=[],\n",
    ")"
   ]
  },
  {
   "cell_type": "markdown",
   "id": "326eaffb",
   "metadata": {},
   "source": [
    "Amplitudinal Downsampling"
   ]
  },
  {
   "cell_type": "code",
   "execution_count": null,
   "id": "62ba4510",
   "metadata": {},
   "outputs": [],
   "source": [
    "from data_processing.expand_dataset import expand_dataset\n",
    "\n",
    "OUTPUT_DIR = \"../datasets/amplitudinal/ECP/day/img/val\"\n",
    "\n",
    "expand_dataset(\n",
    "    input_dir=INPUT_DIR,\n",
    "    output_dir=OUTPUT_DIR,\n",
    "    scale_factors=[],\n",
    "    qp_values=[0, 5, 10, 16, 20, 24, 28, 34, 38, 42, 46, 51], #values from paper\n",
    ")"
   ]
  },
  {
   "cell_type": "markdown",
   "id": "b61c61eb",
   "metadata": {},
   "source": [
    "Mixed Downsampling - Combined Set of both"
   ]
  },
  {
   "cell_type": "code",
   "execution_count": null,
   "id": "79f356ea",
   "metadata": {},
   "outputs": [],
   "source": [
    "from data_processing.expand_dataset import expand_dataset\n",
    "\n",
    "OUTPUT_DIR = \"../datasets/mixed_dataset/ECP/day/img/val\"\n",
    "\n",
    "expand_dataset(\n",
    "    input_dir=INPUT_DIR,\n",
    "    output_dir=OUTPUT_DIR,\n",
    "    scale_factors=[1, 720.0/1024], #values from paper\n",
    "    qp_values=[0, 5, 10, 16, 20, 24, 28, 34, 38, 42, 46, 51], #values from paper\n",
    ")"
   ]
  },
  {
   "cell_type": "markdown",
   "id": "5a57854c",
   "metadata": {},
   "source": [
    "## Train/Load Model"
   ]
  },
  {
   "cell_type": "code",
   "execution_count": null,
   "id": "ca7ee050",
   "metadata": {},
   "outputs": [],
   "source": []
  },
  {
   "cell_type": "markdown",
   "id": "f8894b32",
   "metadata": {},
   "source": [
    "## Visualizing Results"
   ]
  },
  {
   "cell_type": "markdown",
   "id": "35cb5840",
   "metadata": {},
   "source": [
    "#### Reproducing figures from the paper"
   ]
  },
  {
   "cell_type": "markdown",
   "id": "68cc6f29",
   "metadata": {},
   "source": [
    "#### Figure 5"
   ]
  },
  {
   "cell_type": "code",
   "execution_count": null,
   "id": "46314223",
   "metadata": {},
   "outputs": [],
   "source": [
    "from visualization.xy_lineplot import basic_lineplot, multi_lineplot\n",
    "\n",
    "\n",
    "data_dict = {\n",
    "    \"EuroCity Original -> Finetuned Model\": ([0, 1, 2, 3, 4, 5], [0, 1, 4, 9, 16, 25]),\n",
    "    \"EuroCity 1.42 -> Finetuned Model\": ([0, 1, 2, 6, 8, 9], [0, 1, 5, 10, 16, 27]),\n",
    "    \"EuroCity Original\": ([0, 2, 3, 5, 7, 9], [0, 1, 2, 3, 12, 20]), \n",
    "    \"EuroCity 1.42\": ([0, 2, 2, 4, 8, 9], [0, 1, 4, 9, 16, 25])\n",
    "}\n",
    "## Figure 5 in the paper \n",
    "multi_lineplot(data_dict, xlabel=\"Megabytes/Image\", ylabel=\"map@50 - All Category\")"
   ]
  },
  {
   "cell_type": "code",
   "execution_count": null,
   "id": "fb13fa3e",
   "metadata": {},
   "outputs": [],
   "source": [
    "from visualization.xy_lineplot import basic_lineplot, multi_lineplot\n",
    "\n",
    "\n",
    "data_dict = {\n",
    "    \"EuroCity Original\": ([0, 1, 2, 3, 4, 5], [25, 16, 10, 7, 3, 1]),\n",
    "    \"EuroCity 1.42 -> Finetuned Model\": ([0, 1, 2, 6, 8, 9], [24, 13, 10, 5, 1, 0]),\n",
    "}\n",
    "## Figure 5 in the paper \n",
    "multi_lineplot(data_dict, xlabel=\"Distance(m)\", ylabel=\"Recall-Pedestrian\")"
   ]
  }
 ],
 "metadata": {
  "kernelspec": {
   "display_name": "frmdl",
   "language": "python",
   "name": "python3"
  },
  "language_info": {
   "codemirror_mode": {
    "name": "ipython",
    "version": 3
   },
   "file_extension": ".py",
   "mimetype": "text/x-python",
   "name": "python",
   "nbconvert_exporter": "python",
   "pygments_lexer": "ipython3",
   "version": "3.13.2"
  }
 },
 "nbformat": 4,
 "nbformat_minor": 5
}
